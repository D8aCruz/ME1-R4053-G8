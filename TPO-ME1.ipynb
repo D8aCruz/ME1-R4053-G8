{
 "cells": [
  {
   "cell_type": "markdown",
   "metadata": {},
   "source": [
    "<div style=\"display: flex; align-items: center;\">\n",
    "    <img src=\"logo-utn-frba-electronica.svg\" alt=\"Logo UTN FRBA\" width=\"250\" height=\"100\" style=\"flex-shrink: 0;\">\n",
    "    <p style=\"font-family: 'American Typewriter', 'Courier New', Courier, 'Lucida Sans Typewriter', 'Lucida Typewriter', monospace; text-align: right; margin-left: auto; line-height: 1.2;\">\n",
    "    <font color='black'><strong>MEDIDAS ELECTRÓNICAS I</strong><br>Curso R4053 - 2023<br>Grupo 8</font>\n",
    "    </p>\n",
    "    </div>"
   ]
  },
  {
   "cell_type": "markdown",
   "metadata": {},
   "source": [
    "<p style=\"border: ridge white 2px; text-align: center;font-weight: italic; font-family: 'American Typewriter', 'Courier New', Courier, 'Lucida Sans Typewriter', 'Lucida Typewriter', monospace; font-size:30px; background-color:#2CD546\"><font color='white'>\n",
    "    <strong>Voltímetro True RMS</strong>\n",
    "</p>"
   ]
  },
  {
   "cell_type": "markdown",
   "metadata": {},
   "source": [
    "<p style=\"text-align: justify; font-weight: italic; font-size:15px;\">\n",
    "  <strong>OBJETIVO:</strong>\n",
    "</p>\n",
    "<p style=\"text-align: justify; font-weight: italic; font-size:15px;\">\n",
    "Realizar un informe detallado sobre las características del instrumento, la magnitud a medir, partes que la componen y su principio de funcionamiento. Además de incluir cálculos de incertidumbre, método utilizado para la calibración del equipo.</p>"
   ]
  },
  {
   "cell_type": "markdown",
   "metadata": {},
   "source": [
    "<div style=\"text-align: center; border: 2px solid white; padding: 2px; background-color: green; font-family: 'American Typewriter', 'Courier New', Courier, 'Lucida Sans Typewriter', 'Lucida Typewriter', monospace; font-size: 20px; color: #FFFFFF; font-weight: bold;\"><font color='white'>\n",
    "    I.\tDescripción de la necesidad que satisface el equipo de medición\n",
    "</div>"
   ]
  },
  {
   "cell_type": "markdown",
   "metadata": {},
   "source": [
    "<p style=\"text-align: justify; font-weight: italic; font-size:15px;\">\n",
    "El equipo de medición satisface la necesidad de medir con precisión el Valor eficaz (RMS, por sus siglas en inglés) de pequeñas señales de baja frecuencia (en el entorno de las frecuencias de audio), con el fin de evaluar la calidad de sonido para sistemas de audio. La medición del valor RMS en estas señales permite evaluar el nivel de ruido presente a la entrada y a la salida de cada una de las etapas que compone un sistema de audio. Dicha evaluación es esencial para determinar la relación señal a ruido y, en consecuencia, evidenciar o no la fidelidad del audio en cuestión.</p>"
   ]
  },
  {
   "cell_type": "markdown",
   "metadata": {},
   "source": [
    "<div style=\"text-align: center; border: 2px solid white; padding: 2px; background-color: green; font-family: 'American Typewriter', 'Courier New', Courier, 'Lucida Sans Typewriter', 'Lucida Typewriter', monospace; font-size: 20px; color: #FFFFFF; font-weight: bold;\">\n",
    "    II.\tDescripción de las características de los parámetros a medir\n",
    "  \n",
    "</div>"
   ]
  },
  {
   "cell_type": "markdown",
   "metadata": {},
   "source": [
    "<p style=\"text-align: justify; font-weight: italic; font-size:15px;\">\n",
    "El valor RMS (Root Mean Square) es un parámetro utilizado para medir la magnitud de la señal eléctrica o una señal periódica. El valor RMS es una medida directa de la potencia o el valor de calentamiento de una tensión alterna en comparación con una tensión de corriente continua. En otras palabras, una señal AC de 1V RMS produce la misa cantidad de calor en una resistencia que una señal de DC de 1V. El valor RMS se calcula tomando la raíz cuadrada de la media de los cuadrados de los valores de la señal a lo largo de un periodo completo: </p>\n",
    "\n",
    "$$V_{RMS} = \\sqrt{\\frac{1}{T} \\int_{0}^{T} x^2(t) \\, dt}$$\n",
    "\n",
    "<p style=\"text-align: justify; font-weight: italic; font-size:15px;\">\n",
    "Este enfoque tiene en cuenta tanto los valores positivos como negativos de la señal y los pondera de manera uniforme. Para el caso de señales no periódicas el calculo tiene un pequeño cambia: </p>\n",
    "\n",
    "\n",
    "$$V_{RMS} = \\lim_{{t \\to \\infty}} \\sqrt{\\frac{1}{T} \\int_{0}^{T} x^2(t) \\, dt}$$\n",
    "\n"
   ]
  },
  {
   "cell_type": "markdown",
   "metadata": {},
   "source": [
    "<div style=\"text-align: center; border: 2px solid white; padding: 2px; background-color: green; font-family: 'American Typewriter', 'Courier New', Courier, 'Lucida Sans Typewriter', 'Lucida Typewriter', monospace; font-size: 20px; color: #FFFFFF; font-weight: bold;\">\n",
    "    III.\tDetalle del principio de funcionamiento del sensor utilizado.\n",
    "</div>"
   ]
  },
  {
   "cell_type": "markdown",
   "metadata": {},
   "source": [
    "<p style=\"text-align: justify; font-weight: italic; font-size:15px;\">\n",
    "Para medir el valor RMS vamos a utilizar el integrado AD736 de Analog Devices, que es un conversor de verdadero valor eficaz (RMS) a corriente continua (CC) monolítico, de baja potencia y alta precisión. El AD736 puede calcular el valor eficaz (RMS) de tensión de entrada tanto de alterna como de continua. También puede operar como un dispositivo acoplado en AC agregando un capacitor externo. En este modo, el AD736 puede resolver niveles de señal de entrada de 100μV RMS o menos, a pesar de las variaciones de temperatura o tensión de alimentación. También se mantiene una alta precisión para formas de onda de entrada con factores de cresta de 1 a 3. Además, se puede medir factores de cresta de hasta 5 (introduciendo solo un 2.5% de error adicional). Este integrado requiere solo 200uA de corriente de alimentación y está optimizado para su uso como multímetro y otras aplicaciones alimentadas por batería</p>\n",
    "<div style=\"max-width: 200%; text-align: center;\">\n",
    "  <img src=\"Imagen1.png\" alt=\"Texto alternativo\" style=\"max-width: 200%;\">\n",
    "</div>\n",
    "\n",
    "<p style=\"text-align: justify; font-weight: italic; font-size:15px;\">\n",
    "Como se muestra en la figura 1 el AD736 cuenta con cinco subsecciones funcionales: el amplificador de entrada, el rectificador de onda completa (FWR), el núcleo RMS, el amplificador de salida y la sección de polarización.</p>\n",
    "\n",
    "<p style=\"text-align: justify; font-weight: italic; font-size:15px;\">\n",
    "El amplificador de entrada FET es alta impedancia (de 10^12 Ω) con buffer, de baja corriente de polarización, adecuada para su uso con atenuadores de entrada de alta impedancia. La señal del amplificador de entrada ingresa a un rectificador de precisión de onda completa que, su salida pasa al núcleo RMS. Las operaciones fundamentales del cálculo del valor eficaz (RMS), como elevar al cuadrado, promediar y calcular la raíz cuadrada, se realiza en el núcleo RMS utilizando un capacitor de promedio externo, CAV. Sin este capacitor la señal de entrada rectificada atraviesa el núcleo sin procesarse. Como última subsección tenemos, un amplificador de salida, que almacena en un buffer la salida del núcleo y permite realizar la filtración opcional pasa bajos, mediante un capacitor externo CF, que se conecta en el camino de retroalimentación del amplificador. Esta etapa adicional de filtrado ayuda a reducir cualquier fluctuación en la salida que no se haya eliminado mediante el capacitor CAV.</h2>\n",
    "<h3> ¿Cómo funcionan los convertidores de RMS a DC?</h3>\n",
    "\n",
    "<p style=\"text-align: justify; font-weight: italic; font-size:15px;\">\n",
    "Los convertidores de RMS a DC resuelven una ecuación implícita para determinar el valor RMS de una tensión. A continuación, se mostrarán las transformaciones que conducen desde la definición de la tensión RMS hasta la ecuación implícita. Luego, se explicará la implementación de esta ecuación implícita en un convertidor de RMS a DC monolítico.</p>\n",
    "\n",
    "<p style=\"text-align: justify; font-weight: italic; font-size:15px;\">\n",
    "La definición del valor RMS de una tensión es la siguiente: </p>\n",
    "\n",
    "$$V_{RMS} = \\sqrt{\\frac{1}{T} \\int_{0}^{T} [v^2(t)] \\, dt}   (1)$$\n",
    "\n",
    "<p style=\"text-align: justify; font-weight: italic; font-size:15px;\">\n",
    "Donde V_RMS es el valor RMS, T es la duración de la medición y v(t) es la tensión instantánea, una función del tiempo, pero no necesariamente periódica. </p>\n",
    "\n",
    "<p style=\"text-align: justify; font-weight: italic; font-size:15px;\">\n",
    "Al elevar ambos lados de esta ecuación al cuadrado, se obtiene:</p>\n",
    "\n",
    "$$V_{RMS}^2 = \\frac{1}{T} \\int_{0}^{T} [v^2(t)] \\, dt   (2)$$\n",
    "\n",
    "<p style=\"text-align: justify; font-weight: italic; font-size:15px;\">\n",
    "La integral se puede aproximar como un promedio móvil:</p>\n",
    "\n",
    "$$Avg[v(t)]^2 = \\frac{1}{T} \\int_{0}^{T} [v^2(t)] \\, dt   (3)$$\n",
    "\n",
    "<p style=\"text-align: justify; font-weight: italic; font-size:15px;\">\n",
    "Luego, la Ecuación 2 se simplifica a:</p>\n",
    "\n",
    "$$V_{RMS}^2 = \\text{Avg}[v^2(t)]   (4)$$\n",
    "\n",
    "<p style=\"text-align: justify; font-weight: italic; font-size:15px;\">\n",
    "Dividiendo ambos lados por VRMS se obtiene:</p>\n",
    "\n",
    "$$V_{RMS} = \\frac{\\text{Avg}[v^2(t)]}{V_{RMS}}   (5)$$\n",
    "\n",
    "<p style=\"text-align: justify; font-weight: italic; font-size:15px;\">\n",
    "Esta expresión proporciona la base para la solución implícita de V_RMS y es la técnica utilizada en la línea de convertidores de RMS a DC monolíticos de Analog Devices.</p>\n",
    "\n",
    "<p style=\"text-align: justify; font-weight: italic; font-size:15px;\">\n",
    "Cabe destacar que al tomar la raíz cuadrada de ambos lados de la Ecuación 4 se obtiene:</p>\n",
    "\n",
    "$$V_{RMS} = \\sqrt{\\text{Avg}[v^2(t)]}$$\n",
    "\n",
    "<p style=\"text-align: justify; font-weight: italic; font-size:15px;\">\n",
    "Este es un método alternativo para expresar el valor RMS (raíz cuadrada de la media de los cuadrados) de la función.</p>\n",
    "\n",
    "<p style=\"text-align: justify; font-weight: italic; font-size:15px;\">\n",
    "El método implícito de cálculo de valores RMS es preferible al método explícito (elevar al cuadrado sucesivamente, promediar y tomar la raíz cuadrada de la señal de entrada) por razones prácticas que resultan en un rango dinámico superior. Utilizando el método explícito, la salida del cuadrador variará en un rango dinámico de 10,000:1 (de 1 mV a 10 V) para una entrada instantánea de 100:1 (de 0.1 V a 10 V). Dado que el cuadrador de entrada utilizado en el método explícito tendrá errores mayores de 1 mV, el error dependerá fuertemente del nivel de señal, lo que resulta en un rango dinámico general de menos de 100:1.</p>\n",
    "\n",
    "<p style=\"text-align: justify; font-weight: italic; font-size:15px;\">\n",
    "La Figura 2 muestra el método implícito de conversión de RMS a DC. El circuito es esencialmente una computadora analógica que resuelve la Ecuación 5. Los dispositivos de Analog Devices AD536A, AD636, AD637, AD736 y AD737 utilizan variaciones de este enfoque.</p>\n",
    "\n",
    "<div style=\"max-width: 100%; text-align: center;\">\n",
    "  <img src=\"Imagen2.png\" alt=\"Texto alternativo\" style=\"max-width: 100%;\">\n",
    "</div>\n",
    "\n",
    "<p style=\"text-align: justify; font-weight: italic; font-size:15px;\">\n",
    "La etapa de entrada es un búfer de ganancia unitaria, que no está comprometido en los dispositivos AD536A, AD636 y AD637 y está comprometido en los dispositivos AD736 y AD737. \"No comprometido\" en este contexto significa que tanto las entradas como la conexión de salida son accesibles; el usuario tiene la opción de utilizar este búfer como una entrada de alta impedancia para el convertidor, utilizarlo para construir un filtro activo que siga al filtro de promediado del convertidor RMS a DC o simplemente dejarlo desconectado.</p>\n",
    "\n",
    "<p style=\"text-align: justify; font-weight: italic; font-size:15px;\">\n",
    "Un circuito de valor absoluto (es decir, un rectificador de onda completa de precisión) sigue al búfer de entrada. La salida del circuito de valor absoluto impulsa un cuadrador/divisor. El cuadrador/divisor eleva al cuadrado la señal de entrada y la divide por la señal de salida, que es la salida promediada del circuito de cuadratura. Al cerrar el lazo alrededor del divisor, se resuelve continuamente la Ecuación 5.</p>"
   ]
  },
  {
   "cell_type": "markdown",
   "metadata": {},
   "source": [
    "<div style=\" text-align: center; border: 2px solid white; padding: 2px; background-color: green; font-family: 'American Typewriter', 'Courier New', Courier, 'Lucida Sans Typewriter', 'Lucida Typewriter', monospace; font-size: 20px; color: #FFFFFF; font-weight: bold;\">\n",
    "    V.\tDiagrama en bloques del sistema.\n",
    "</div>"
   ]
  },
  {
   "cell_type": "markdown",
   "metadata": {},
   "source": [
    "<div style=\"max-width: 100%; text-align: center;\">\n",
    "  <img src=\"DiagramaEnBloque.jpg\" alt=\"Texto alternativo\" style=\"max-width: 100%;\">\n",
    "</div>"
   ]
  },
  {
   "cell_type": "markdown",
   "metadata": {},
   "source": [
    "<div style=\"text-align: center; border: 2px solid white; padding: 2px; background-color: green; font-family: 'American Typewriter', 'Courier New', Courier, 'Lucida Sans Typewriter', 'Lucida Typewriter', monospace; font-size: 20px; color: #FFFFFF; font-weight: bold;\">\n",
    "    VI.\tDiagrama en flujo del algoritmo utilizado.\n",
    "</div>"
   ]
  },
  {
   "cell_type": "markdown",
   "metadata": {},
   "source": [
    "<div style=\"max-width: 100%; text-align: Left;\">\n",
    "  <img src=\"DiagramaDeFlujo.png\"  alt=\"Texto alternativo\" style=\"max-width: 100%;\">\n",
    "</div>"
   ]
  },
  {
   "cell_type": "markdown",
   "metadata": {},
   "source": [
    "<div style=\"text-align: center; border: 2px solid white; padding: 2px; background-color: green; font-family: 'American Typewriter', 'Courier New', Courier, 'Lucida Sans Typewriter', 'Lucida Typewriter', monospace; font-size: 20px; color: #FFFFFF; font-weight: bold;\">\n",
    "    VII.\tCálculo de las incertidumbres del equipo.\n",
    "</div>"
   ]
  },
  {
   "cell_type": "markdown",
   "metadata": {},
   "source": [
    "**Impedancia de entrada**\n",
    "- $R_3$ = 900kΩ ± 1% 0.25W\n",
    "- $R_4$ = 100kΩ ± 1% 0.25W\n",
    "\n",
    "\n",
    "**AD736J**\n",
    "- Tensión de alimentación: ± 5V\n",
    "- Impedancia de entrada: $10^{12} Ω$\n",
    "- Factor de conversión: $S = 1[\\frac{V}{Vrms}]$\n",
    "- VRMSmáx = 200mVrms\n",
    "- Error: 0.3mV ± 0.3%\n",
    "\n",
    "**MCP602**\n",
    "- Rail-to-rail Input/Output\n",
    "- Tensión de alimentación: 1.8V a 5.5V\n",
    "- Ancho de banda: 1MHz\n",
    "- Voutmáx: 4.975V\n",
    "- Voutmín: 25mV\n",
    "\n",
    "**Circuito No Inversor:**\n",
    "- $R_1$ = 10kΩ ± 1% 0.25W\n",
    "- $R_2$ = 470kΩ ± 1% 0.25W\n",
    "- $A_v$ = (1 + $\\frac{R_2}{R_1}$)\n",
    "\n",
    "**CAD**\n",
    "- Resolución: 10 bits\n",
    "- Precisión: ±2 LSB\n",
    "- Tiempo de conversión: 65 a 260 µs\n",
    "- VREF = 5V ± 1%\n",
    "\n",
    "**Esc. 100mV**\n",
    "\n",
    "$\\quad A_t = 1$\n",
    "\n",
    "**Esc. 1000mV**\n",
    "\n",
    "$\\quad A_t = \\frac{R_3 + R_4}{R_4}$"
   ]
  },
  {
   "cell_type": "markdown",
   "metadata": {},
   "source": [
    "<h3 style=\"text-align: center;\"> Ecucaciones </h3>\n",
    "\n",
    "$$V_{out} = V_{dc} \\cdot A_v$$\n",
    "\n",
    "$$V_{dc} = S \\cdot V_{rms}$$\n",
    "\n",
    "$$V_{rms} = \\frac{V_{in}} { A_t }$$\n",
    "\n",
    "$$V_{out} = \\frac{S\\cdot V_{in} \\cdot A_v}{A_t}$$"
   ]
  },
  {
   "cell_type": "markdown",
   "metadata": {},
   "source": [
    "Realizamos el cálculo de insertidumbre de la cuenta indicada por el ADC a partir de la siguiente expresión:\n",
    "\n",
    "$$C_I = \\frac{V_{out} \\cdot 2^N}{V_{ref}} \\quad(1)$$\n",
    "\n",
    "Su insertidumbre relaitiva será:\n",
    "\n",
    "$$u_r(C_{I}) = \\sqrt{u_r^2(V_{out}) + u_r^2(CAD) + u_r^2(V_{ref}) }$$\n"
   ]
  },
  {
   "cell_type": "code",
   "execution_count": 28,
   "metadata": {},
   "outputs": [
    {
     "data": {
      "text/latex": [
       "$\\displaystyle \\quad \\quad u_r(V_{out}) = 0.0025$"
      ],
      "text/plain": [
       "<IPython.core.display.Math object>"
      ]
     },
     "metadata": {},
     "output_type": "display_data"
    },
    {
     "data": {
      "text/latex": [
       "$\\displaystyle \\quad \\quad u_r(CAD) = 0.0011$"
      ],
      "text/plain": [
       "<IPython.core.display.Math object>"
      ]
     },
     "metadata": {},
     "output_type": "display_data"
    },
    {
     "data": {
      "text/latex": [
       "$\\displaystyle \\quad \\quad u_r(V_{ref}) = 0.0050$"
      ],
      "text/plain": [
       "<IPython.core.display.Math object>"
      ]
     },
     "metadata": {},
     "output_type": "display_data"
    },
    {
     "data": {
      "text/latex": [
       "$\\displaystyle \\quad \\quad u_r(C_I) = 0.0057$"
      ],
      "text/plain": [
       "<IPython.core.display.Math object>"
      ]
     },
     "metadata": {},
     "output_type": "display_data"
    }
   ],
   "source": [
    "import numpy as np\n",
    "from IPython.display import display, Math\n",
    "#Incertidumbre de Vout\n",
    "Vout = 5\n",
    "Voutmax = 4.975\n",
    "Voutmin = 0.025\n",
    "ΔVout = (Vout-Voutmax)/Vout\n",
    "ur_Vout = ΔVout/2\n",
    "\n",
    "#Incertidumbre de CAD\n",
    "N = 10\n",
    "LSB = 2\n",
    "ΔCAD = LSB/(2**N)\n",
    "ur_CAD = ΔCAD/np.sqrt(3)\n",
    "#Incertidumbre de Vref\n",
    "Vref = 5\n",
    "ΔVref = 0.01\n",
    "Vrefmin = Vref*(1-ΔVref)\n",
    "Vrefmax = Vref*(1+ΔVref)\n",
    "ur_Vref = ΔVref/2\n",
    "\n",
    "#Incertidumbre de Cuenta Indicada:\n",
    "ur_Ci = np.sqrt(ur_Vout**2 + ur_CAD**2 + ur_Vref**2)\n",
    "\n",
    "#Mostramos los resultados\n",
    "display(Math(f\"\\quad \\quad u_r(V_{{out}}) = {ur_Vout:.4f}\"))\n",
    "display(Math(f\"\\quad \\quad u_r(CAD) = {ur_CAD:.4f}\"))\n",
    "display(Math(f\"\\quad \\quad u_r(V_{{ref}}) = {ur_Vref:.4f}\"))\n",
    "display(Math(f\"\\quad \\quad u_r(C_I) = {ur_Ci:.4f}\"))"
   ]
  },
  {
   "cell_type": "markdown",
   "metadata": {},
   "source": [
    "Despejando la ecuación 1 en función de la tensión a la entrada del ADC:\n",
    "   $$ V_{\\text{out}} = \\frac{C_I \\cdot V_{\\text{ref}}}{2^N}\n",
    "   \\quad (2) $$\n",
    "\n",
    "Calculamos la tensión previa a la amplificación:\n",
    "   $$V_{dc} = \\frac{V_{\\text{out}}}{A_v} \\rightarrow V_{dc} = \\frac{C_I \\cdot V_{\\text{ref}}}{2^N \\cdot A_v}\\quad (3)$$\n",
    "\n",
    "   Donde:\n",
    "   $$A_v = \\left(1 + \\frac{R_2}{R_3}\\right) \\quad (4) $$\n",
    "\n",
    "   Y su incertidumbre relativa:\n",
    "   $$u_r(A_v) = \\frac{R_2}{R_1} \\cdot \\frac{\\sqrt{u_r^2(R_1) + u_r^2(R_2)}}{A_v}$$"
   ]
  },
  {
   "cell_type": "code",
   "execution_count": 29,
   "metadata": {},
   "outputs": [
    {
     "data": {
      "text/latex": [
       "$\\displaystyle \\quad \\quad u_r(A_v) = 0.7\\%$"
      ],
      "text/plain": [
       "<IPython.core.display.Math object>"
      ]
     },
     "metadata": {},
     "output_type": "display_data"
    },
    {
     "data": {
      "text/latex": [
       "$\\displaystyle \\quad \\quad A_{v} = 48$"
      ],
      "text/plain": [
       "<IPython.core.display.Math object>"
      ]
     },
     "metadata": {},
     "output_type": "display_data"
    }
   ],
   "source": [
    "#Incertidumbre de R1 y R2\n",
    "R1  = 10000\n",
    "R2  = 470000\n",
    "ΔR1 = 0.01\n",
    "ΔR2 = 0.01\n",
    "ur_R1 = ΔR1/2\n",
    "ur_R2 = ΔR2/2\n",
    "\n",
    "R1min = R1*(1-ΔR1)\n",
    "R2min = R2*(1-ΔR2)\n",
    "R1max = R1*(1+ΔR1)\n",
    "R2max = R2*(1+ΔR2)\n",
    "\n",
    "#Incertidumbre de Av\n",
    "Av = (1 + R2/R1)\n",
    "Avmin = (1 + R2min/R1max)\n",
    "Avmax = (1 + R2max/R1min)\n",
    "\n",
    "ur_Av = (R2/R1)*np.sqrt(ur_R1**2 + ur_R2**2)/Av\n",
    "display(Math(f\"\\quad \\quad u_r(A_v) = {ur_Av*100:.1f}\\%\"))\n",
    "display(Math(f\"\\quad \\quad A_{{v}} = {Av:.0f}\"))"
   ]
  },
  {
   "cell_type": "markdown",
   "metadata": {},
   "source": [
    "El factor \\(S\\) que relaciona la entrada con la salida del sensor AD736: $S = 1 \\, \\left[\\frac{V}{V_{rms}}\\right]$, tal que:\n",
    "$$V_{rms} = \\frac{V_{dc}}{S} \\quad (5)$$"
   ]
  },
  {
   "cell_type": "code",
   "execution_count": 30,
   "metadata": {},
   "outputs": [],
   "source": [
    "#Factor de conversión Vrms a Vdc\n",
    "S = 1\n",
    "ΔS = 0.3/100\n",
    "ur_S = ΔS/2\n",
    "Smin = S*(1-ΔS)\n",
    "Smax = S*(1+ΔS)"
   ]
  },
  {
   "cell_type": "markdown",
   "metadata": {},
   "source": [
    "En la entrada del equipo nos encontramos con un circuito atenuador conformado por:  $\\quad R_3 \\quad y \\quad R_4$"
   ]
  },
  {
   "cell_type": "code",
   "execution_count": 31,
   "metadata": {},
   "outputs": [],
   "source": [
    "#Incertidumbre de R1 y R2\n",
    "R3  = 9e4\n",
    "R4  = 1e4\n",
    "ΔR3 = 0.01\n",
    "ΔR4 = 0.01\n",
    "ur_R3 = ΔR3/2\n",
    "ur_R4 = ΔR4/2\n",
    "\n",
    "R3min = R3*(1-ΔR3)\n",
    "R4min = R4*(1-ΔR4)\n",
    "R3max = R3*(1+ΔR3)\n",
    "R4max = R4*(1+ΔR4)"
   ]
  },
  {
   "cell_type": "markdown",
   "metadata": {},
   "source": [
    "Donde la impedancia de entrada es: $\\quad R_v = R_3 + R_4 $\n",
    "\n",
    "   "
   ]
  },
  {
   "cell_type": "code",
   "execution_count": 32,
   "metadata": {},
   "outputs": [
    {
     "data": {
      "text/latex": [
       "$\\displaystyle \\quad \\quad R_V = 100.0 MΩ$"
      ],
      "text/plain": [
       "<IPython.core.display.Math object>"
      ]
     },
     "metadata": {},
     "output_type": "display_data"
    },
    {
     "data": {
      "text/latex": [
       "$\\displaystyle \\quad \\quad ΔR_v = 1\\%$"
      ],
      "text/plain": [
       "<IPython.core.display.Math object>"
      ]
     },
     "metadata": {},
     "output_type": "display_data"
    }
   ],
   "source": [
    "#Incertidumbre de la Resistencias de entrada\n",
    "Rv = (R3+R4)/1000\n",
    "ΔRv = np.sqrt(ΔR3**2 + ΔR4**2)\n",
    "display(Math(f\"\\quad \\quad R_V = {Rv} MΩ\"))\n",
    "display(Math(f\"\\quad \\quad ΔR_v = {ΔRv*100:.0f}\\%\"))"
   ]
  },
  {
   "cell_type": "markdown",
   "metadata": {},
   "source": [
    "Definimos para las distintas escalas del equipo un factor de atenuación: $\\quad A_{t_{100mV}} = 1 \\quad y \\quad A_{t_{1V}} = \\frac{R_{3} + R_4}{R_4}$"
   ]
  },
  {
   "cell_type": "markdown",
   "metadata": {},
   "source": [
    "Tal que su incertidumbre es: $\\quad u_r(A_{t_{1V}}) = \\frac{R_{3}}{R_{4}} \\cdot \\frac{\\sqrt{u_r^2(R_{3}) + u_r^2(R_{4})}} {A_{t_{1V}}}$"
   ]
  },
  {
   "cell_type": "code",
   "execution_count": 33,
   "metadata": {},
   "outputs": [
    {
     "data": {
      "text/latex": [
       "$\\displaystyle \\quad \\quad u_r(A_t) = 0.6\\%$"
      ],
      "text/plain": [
       "<IPython.core.display.Math object>"
      ]
     },
     "metadata": {},
     "output_type": "display_data"
    },
    {
     "data": {
      "text/latex": [
       "$\\displaystyle \\quad \\quad A_{t} = 10$"
      ],
      "text/plain": [
       "<IPython.core.display.Math object>"
      ]
     },
     "metadata": {},
     "output_type": "display_data"
    }
   ],
   "source": [
    "#Incertidumbre de At\n",
    "At = (1 + R3/R4)\n",
    "Atmin = (1 + R3min/R4max)\n",
    "Atmax = (1 + R3max/R4min)\n",
    "\n",
    "ur_At = (R3/R4)*np.sqrt(ur_R3**2 + ur_R4**2)/At\n",
    "display(Math(f\"\\quad \\quad u_r(A_t) = {ur_At*100:.1f}\\%\"))\n",
    "display(Math(f\"\\quad \\quad A_{{t}} = {At:.0f}\"))"
   ]
  },
  {
   "cell_type": "markdown",
   "metadata": {},
   "source": [
    "Para una señal de entrada $V_{{in}}$, producto de circuito de atenuación, obtenemos la señal que ingresa al sensor:\n",
    "\n",
    "$$V_{in} = V_{rms} \\cdot {A_t}\\quad (6)$$"
   ]
  },
  {
   "cell_type": "markdown",
   "metadata": {},
   "source": [
    "Finalmente obtenemos la expresión que relaciona la señal de entrada $V_{in}$, en función de las cuentas indicadas $C_I$ a partir de la ecuación 3 remplazado en la ecuación 5, y este útilmo reemplazado en la ecuación 6:\n",
    "$$V_{in}(C_I) = C_I \\cdot \\frac{V_{\\text{ref}}}{2^N \\cdot A_v \\cdot S}\\cdot A_t \\quad (7)$$"
   ]
  },
  {
   "cell_type": "markdown",
   "metadata": {},
   "source": [
    "Por lo tanto, la resolución se expresa como la diferencia entre \n",
    "\n",
    "$$ΔV_{in} = V_{in}(C_I) - V_in(C_I-1) → ΔV_{in} = C_I\\cdot \\frac{V_{ref}}{2^N\\cdot A_v\\cdot S\\cdot A_t} - (C_I-1)\\cdot \\frac{V_{ref}}{2^N\\cdot A_v \\cdot S}\\cdot A_t$$\n",
    "\n",
    "Resolución:\n",
    "\n",
    "$$ΔV_{in} =\\frac{V_{ref} \\cdot A_t}{2^N\\cdot A_v \\cdot S}\\quad (8)$$\n",
    "\n",
    "Evaluamos la ecuación 8 para el peor de los casos:\n",
    "\n",
    "$$ΔV_{in} =\\frac{V_{ref_{max}} \\cdot At_{max}}{2^N\\cdot Av_{min} \\cdot S_{min}}$$\n",
    "\n"
   ]
  },
  {
   "cell_type": "code",
   "execution_count": 34,
   "metadata": {},
   "outputs": [
    {
     "data": {
      "text/latex": [
       "$\\displaystyle \\quad \\quad Escala\\quad 100mV: ΔV_{in} = 0.11[mV_{rms}]$"
      ],
      "text/plain": [
       "<IPython.core.display.Math object>"
      ]
     },
     "metadata": {},
     "output_type": "display_data"
    },
    {
     "data": {
      "text/latex": [
       "$\\displaystyle \\quad \\quad Escala\\quad 1000mV: ΔV_{in} = 1.1[mV_{rms}]$"
      ],
      "text/plain": [
       "<IPython.core.display.Math object>"
      ]
     },
     "metadata": {},
     "output_type": "display_data"
    }
   ],
   "source": [
    "# Resolución 100mV\n",
    "ΔVin = 1e3*Vrefmax/(2**N * Avmin*Smin)\n",
    "display(Math(f\"\\quad \\quad Escala\\quad 100mV: ΔV_{{in}} = {ΔVin:.2f}[mV_{{rms}}]\"))\n",
    "# Resolución 2V\n",
    "ΔVin = 1e3*Atmax*Vrefmax/((2**N)* Avmin*Smin)\n",
    "display(Math(f\"\\quad \\quad Escala\\quad 1000mV: ΔV_{{in}} = {ΔVin:.1f}[mV_{{rms}}]\"))"
   ]
  },
  {
   "cell_type": "markdown",
   "metadata": {},
   "source": [
    "Pasamos a determinar el valor superior mínimo y el valor superior máximo de tensión RMS de entrada que podemos llegar a medir, para esto reemplazamos la ecuación 1 en la ecuación 7 y obtenemos la siguiente expresión:\n",
    "\n",
    "$$ V_{in} = \\frac{V_{out}\\cdot A_t}{A_v\\cdot S}\\quad (9)$$"
   ]
  },
  {
   "cell_type": "markdown",
   "metadata": {},
   "source": [
    "Donde el valor superiror mínimo es: $\\quad V_{in_{máx}} = \\frac{V_{out_{máx}}\\cdot A_{t_{mín}} }{A_{v_{máx}}\\cdot S_{máx}}$"
   ]
  },
  {
   "cell_type": "code",
   "execution_count": 35,
   "metadata": {},
   "outputs": [
    {
     "data": {
      "text/latex": [
       "$\\displaystyle \\quad \\quad V_{out_{máx}} = 4.975 [V_{rms}]$"
      ],
      "text/plain": [
       "<IPython.core.display.Math object>"
      ]
     },
     "metadata": {},
     "output_type": "display_data"
    },
    {
     "data": {
      "text/latex": [
       "$\\displaystyle \\quad \\quad A_{v_{máx}} = 48.949$"
      ],
      "text/plain": [
       "<IPython.core.display.Math object>"
      ]
     },
     "metadata": {},
     "output_type": "display_data"
    },
    {
     "data": {
      "text/latex": [
       "$\\displaystyle \\quad \\quad S_{máx} = 1.003$"
      ],
      "text/plain": [
       "<IPython.core.display.Math object>"
      ]
     },
     "metadata": {},
     "output_type": "display_data"
    },
    {
     "data": {
      "text/latex": [
       "$\\displaystyle \\quad \\quad Escala\\quad 100mV: V_{in_{máx}} = 101[mV_{rms}]$"
      ],
      "text/plain": [
       "<IPython.core.display.Math object>"
      ]
     },
     "metadata": {},
     "output_type": "display_data"
    }
   ],
   "source": [
    "Vinmax = (1e3*Voutmax)/(Avmax*Smax)\n",
    "display(Math(f\"\\quad \\quad V_{{out_{{máx}}}} = {Voutmax:.3f} [V_{{rms}}]\"))\n",
    "display(Math(f\"\\quad \\quad A_{{v_{{máx}}}} = {Avmax:.3f}\"))\n",
    "display(Math(f\"\\quad \\quad S_{{máx}} = {Smax:.3f}\"))\n",
    "display(Math(f\"\\quad \\quad Escala\\quad 100mV: V_{{in_{{máx}}}} = {Vinmax:.0f}[mV_{{rms}}]\"))"
   ]
  },
  {
   "cell_type": "code",
   "execution_count": 36,
   "metadata": {},
   "outputs": [
    {
     "data": {
      "text/latex": [
       "$\\displaystyle \\quad \\quad V_{out_{máx}} = 4.975 [V_{rms}]$"
      ],
      "text/plain": [
       "<IPython.core.display.Math object>"
      ]
     },
     "metadata": {},
     "output_type": "display_data"
    },
    {
     "data": {
      "text/latex": [
       "$\\displaystyle \\quad \\quad A_{t_{mín}} = 9.822$"
      ],
      "text/plain": [
       "<IPython.core.display.Math object>"
      ]
     },
     "metadata": {},
     "output_type": "display_data"
    },
    {
     "data": {
      "text/latex": [
       "$\\displaystyle \\quad \\quad A_{v_{máx}} = 48.949$"
      ],
      "text/plain": [
       "<IPython.core.display.Math object>"
      ]
     },
     "metadata": {},
     "output_type": "display_data"
    },
    {
     "data": {
      "text/latex": [
       "$\\displaystyle \\quad \\quad S_{máx} = 1.003$"
      ],
      "text/plain": [
       "<IPython.core.display.Math object>"
      ]
     },
     "metadata": {},
     "output_type": "display_data"
    },
    {
     "data": {
      "text/latex": [
       "$\\displaystyle \\quad \\quad Escala\\quad 1000mV: V_{in_{máx}} = 995[mV_{rms}]$"
      ],
      "text/plain": [
       "<IPython.core.display.Math object>"
      ]
     },
     "metadata": {},
     "output_type": "display_data"
    }
   ],
   "source": [
    "Vinmax = (1e3*Voutmax*Atmin)/(Avmax*Smax)\n",
    "display(Math(f\"\\quad \\quad V_{{out_{{máx}}}} = {Voutmax:.3f} [V_{{rms}}]\"))\n",
    "display(Math(f\"\\quad \\quad A_{{t_{{mín}}}} = {Atmin:.3f}\"))\n",
    "display(Math(f\"\\quad \\quad A_{{v_{{máx}}}} = {Avmax:.3f}\"))\n",
    "display(Math(f\"\\quad \\quad S_{{máx}} = {Smax:.3f}\"))\n",
    "display(Math(f\"\\quad \\quad Escala\\quad 1000mV: V_{{in_{{máx}}}} = {Vinmax:.0f}[mV_{{rms}}]\"))"
   ]
  },
  {
   "cell_type": "markdown",
   "metadata": {},
   "source": [
    "Para el valor inferior máximo es: $\\quad V_{in_{mín}} = \\frac{V_{out_{min}}\\cdot A_{t_{máx}} }{A_{v_{min}}\\cdot S_{mín}}$\n"
   ]
  },
  {
   "cell_type": "code",
   "execution_count": 37,
   "metadata": {},
   "outputs": [
    {
     "data": {
      "text/latex": [
       "$\\displaystyle \\quad \\quad V_{out_{min}} = 0.025 [mV_{rms}]$"
      ],
      "text/plain": [
       "<IPython.core.display.Math object>"
      ]
     },
     "metadata": {},
     "output_type": "display_data"
    },
    {
     "data": {
      "text/latex": [
       "$\\displaystyle \\quad \\quad A_{v_{mín}} = 47.069$"
      ],
      "text/plain": [
       "<IPython.core.display.Math object>"
      ]
     },
     "metadata": {},
     "output_type": "display_data"
    },
    {
     "data": {
      "text/latex": [
       "$\\displaystyle \\quad \\quad S_{mín} = 0.997$"
      ],
      "text/plain": [
       "<IPython.core.display.Math object>"
      ]
     },
     "metadata": {},
     "output_type": "display_data"
    },
    {
     "data": {
      "text/latex": [
       "$\\displaystyle \\quad \\quad Escala\\quad 100mV: V_{in_{mín}} = 0.53[mV_{rms}]$"
      ],
      "text/plain": [
       "<IPython.core.display.Math object>"
      ]
     },
     "metadata": {},
     "output_type": "display_data"
    }
   ],
   "source": [
    "Vinmin = (Voutmin*1e3)/(Avmin*Smin)\n",
    "display(Math(f\"\\quad \\quad V_{{out_{{min}}}} = {Voutmin:.3f} [mV_{{rms}}]\"))\n",
    "display(Math(f\"\\quad \\quad A_{{v_{{mín}}}} = {Avmin:.3f}\"))\n",
    "display(Math(f\"\\quad \\quad S_{{mín}} = {Smin:.3f}\"))\n",
    "display(Math(f\"\\quad \\quad Escala\\quad 100mV: V_{{in_{{mín}}}} = {Vinmin:.2f}[mV_{{rms}}]\"))"
   ]
  },
  {
   "cell_type": "code",
   "execution_count": 38,
   "metadata": {},
   "outputs": [
    {
     "data": {
      "text/latex": [
       "$\\displaystyle \\quad \\quad V_{out_{min}} = 0.025 [V_{rms}]$"
      ],
      "text/plain": [
       "<IPython.core.display.Math object>"
      ]
     },
     "metadata": {},
     "output_type": "display_data"
    },
    {
     "data": {
      "text/latex": [
       "$\\displaystyle \\quad \\quad A_{t_{máx}} = 10.182$"
      ],
      "text/plain": [
       "<IPython.core.display.Math object>"
      ]
     },
     "metadata": {},
     "output_type": "display_data"
    },
    {
     "data": {
      "text/latex": [
       "$\\displaystyle \\quad \\quad A_{v_{mín}} = 47.069$"
      ],
      "text/plain": [
       "<IPython.core.display.Math object>"
      ]
     },
     "metadata": {},
     "output_type": "display_data"
    },
    {
     "data": {
      "text/latex": [
       "$\\displaystyle \\quad \\quad S_{mín} = 0.997$"
      ],
      "text/plain": [
       "<IPython.core.display.Math object>"
      ]
     },
     "metadata": {},
     "output_type": "display_data"
    },
    {
     "data": {
      "text/latex": [
       "$\\displaystyle \\quad \\quad Escala\\quad 1000mV: V_{in_{mín}} = 5.4[mV_{rms}]$"
      ],
      "text/plain": [
       "<IPython.core.display.Math object>"
      ]
     },
     "metadata": {},
     "output_type": "display_data"
    }
   ],
   "source": [
    "Vinmin = (1e3*Voutmin*Atmax)/(Avmin*Smin)\n",
    "display(Math(f\"\\quad \\quad V_{{out_{{min}}}} = {Voutmin:.3f} [V_{{rms}}]\"))\n",
    "display(Math(f\"\\quad \\quad A_{{t_{{máx}}}} = {Atmax:.3f}\"))\n",
    "display(Math(f\"\\quad \\quad A_{{v_{{mín}}}} = {Avmin:.3f}\"))\n",
    "display(Math(f\"\\quad \\quad S_{{mín}} = {Smin:.3f}\"))\n",
    "display(Math(f\"\\quad \\quad Escala\\quad 1000mV: V_{{in_{{mín}}}} = {Vinmin:.1f}[mV_{{rms}}]\"))"
   ]
  },
  {
   "cell_type": "markdown",
   "metadata": {},
   "source": [
    "Finalmente a partir de la ecuación 7, vamos a calcular la insertidubre teórica de nuestro equipo deseñado, el cual se pude obtener de la siguiente ecuación:\n",
    "\n",
    "$$u_r(V_{in}) = \\sqrt{u_r^2(C_{I}) + u_r^2(V_{ref}) + u_r^2(A_v) + u_r^2(S)) + u_r^2(A_t)}$$\n"
   ]
  },
  {
   "cell_type": "markdown",
   "metadata": {},
   "source": [
    "Para un intervalo de confianza del 95% (k=2), la incertidumbre relativa expandida:\n",
    "\n",
    "$$U_r = k \\cdot u_r(V_{in})$$"
   ]
  },
  {
   "cell_type": "code",
   "execution_count": 39,
   "metadata": {},
   "outputs": [
    {
     "data": {
      "text/latex": [
       "$\\displaystyle \\quad \\quad U_r(V_{in}) = 2.4\\%$"
      ],
      "text/plain": [
       "<IPython.core.display.Math object>"
      ]
     },
     "metadata": {},
     "output_type": "display_data"
    }
   ],
   "source": [
    "ur_Vin = np.sqrt(ur_Ci**2 + ur_Vref**2 + ur_Av**2 + ur_S**2 + ur_At**2)\n",
    "k = 2\n",
    "Ur = 2 * ur_Vin\n",
    "display(Math(f\"\\quad \\quad U_r(V_{{in}}) = {Ur*100:.1f}\\%\"))"
   ]
  },
  {
   "cell_type": "markdown",
   "metadata": {},
   "source": [
    "<div style=\"text-align: center; border: 2px solid white; padding: 2px; background-color: green; font-family: 'American Typewriter', 'Courier New', Courier, 'Lucida Sans Typewriter', 'Lucida Typewriter', monospace; font-size: 20px; color: #FFFFFF; font-weight: bold;\">\n",
    "    VIII.\tPatron Utilizado para la calibración.\n",
    "</div>"
   ]
  },
  {
   "cell_type": "markdown",
   "metadata": {},
   "source": [
    "<div style=\"max-width: 100%; text-align: center;\">\n",
    "  <img src=\"Patron.jpg\" alt=\"Texto alternativo\" style=\"max-width: 100%;\">\n",
    "</div>"
   ]
  },
  {
   "cell_type": "markdown",
   "metadata": {},
   "source": [
    "<h3>  AC CHARACTERISTICS:<br>\n",
    "<h3>accuracy1 ±(% of reading + % of range)</h3>\n",
    "<div style=\"max-width: 100%; text-align: center;\">\n",
    "  <img src=\"KEITHLEY-A.png\" alt=\"Texto alternativo\" style=\"max-width: 70%;\">\n",
    "</div>\n",
    "<br>\n",
    "<h3> AC voltage accuracy verification:</h3>\n",
    "<div style=\"max-width: 100%; text-align: center;\">\n",
    "  <img src=\"KEITHLEY-B.png\" alt=\"Texto alternativo\" style=\"max-width: 70%;\">\n",
    "</div>"
   ]
  },
  {
   "cell_type": "markdown",
   "metadata": {},
   "source": [
    "<div style=\"text-align: center; border: 2px solid white; padding: 2px; background-color: green; font-family: 'American Typewriter', 'Courier New', Courier, 'Lucida Sans Typewriter', 'Lucida Typewriter', monospace; font-size: 20px; color: #FFFFFF; font-weight: bold;\">\n",
    "    IX.\tVoltimetro digital True RMS.\n",
    "</div>"
   ]
  },
  {
   "cell_type": "markdown",
   "metadata": {},
   "source": [
    "<div style=\"text-align: center;\">\n",
    "  <span style=\"border: 2px solid white; padding: 3px; display: inline-block; background-color: green; font-family: 'American Typewriter', 'Courier New', Courier, 'Lucida Sans Typewriter', 'Lucida Typewriter', monospace; font-size: 16px; color: #FFFFFF; font-weight: bold;\">\n",
    "    PCB\n",
    "  </span>\n",
    "</div>\n",
    "<p float=\"center\">\n",
    "  <img src=\"PCB.png\" alt=\"Imagen 1\" style=\"width: 48.5%;\">\n",
    "  <img src=\"PCB-3d.png\" alt=\"Imagen 2\" style=\"width: 46%;\">\n",
    "</p>\n"
   ]
  },
  {
   "cell_type": "markdown",
   "metadata": {},
   "source": [
    "<div style=\"text-align: center;\">\n",
    "  <span style=\"border: 2px solid white; padding: 3px; display: inline-block; background-color: green; font-family: 'American Typewriter', 'Courier New', Courier, 'Lucida Sans Typewriter', 'Lucida Typewriter', monospace; font-size: 16px; color: #FFFFFF; font-weight: bold;\">\n",
    "    ESQUEMATICOS\n",
    "  </span>\n",
    "</div>\n",
    "<br>\n",
    "<div style=\"text-align: center;\">\n",
    "  <img src=\"Esquematic-A.png\" alt=\"Imagen 1\" style=\"display: block; margin: 0 auto; width: 80%;\">\n",
    "  <img src=\"Esquematic-B.png\" alt=\"Imagen 2\" style=\"display: block; margin: 0 auto; width: 80%;\">\n",
    "  <img src=\"Esquematic-C.png\" alt=\"Imagen 3\" style=\"display: block; margin: 0 auto; width: 80%;\">\n",
    "</div>\n"
   ]
  },
  {
   "cell_type": "markdown",
   "metadata": {},
   "source": [
    "<div style=\"text-align: center;\">\n",
    "  <span style=\"border: 2px solid white; padding: 3px; display: inline-block; background-color: green; font-family: 'American Typewriter', 'Courier New', Courier, 'Lucida Sans Typewriter', 'Lucida Typewriter', monospace; font-size: 16px; color: #FFFFFF; font-weight: bold;\">\n",
    "    DISEÑO FINAL\n",
    "  </span>\n",
    "</div>\n",
    "\n",
    "<p float=\"center\">\n",
    "  <img src=\"Equipo-A.jpg\" alt=\"Imagen 1\" style=\"width: 40.5%;\">\n",
    "  <img src=\"Equipo-B.jpg\" alt=\"Imagen 2\" style=\"width: 53%;\">\n",
    "</p><br>\n",
    "<p float=\"center\">\n",
    "  <img src=\"Equipo-C.jpg\" alt=\"Imagen 1\" style=\"width: 45.5%;\">\n",
    "  <img src=\"Equipo-D.jpg\" alt=\"Imagen 2\" style=\"width: 47%;\">\n",
    "</p>"
   ]
  },
  {
   "cell_type": "markdown",
   "metadata": {},
   "source": [
    "<div style=\"text-align: center; border: 2px solid white; padding: 2px; background-color: green; font-family: 'American Typewriter', 'Courier New', Courier, 'Lucida Sans Typewriter', 'Lucida Typewriter', monospace; font-size: 20px; color: #FFFFFF; font-weight: bold;\">\n",
    "    X.\tCALIBRACIÓN.\n",
    "</div>"
   ]
  },
  {
   "cell_type": "markdown",
   "metadata": {},
   "source": [
    "<p style=\"text-align: justify; font-weight: italic; font-size:15px;\">\n",
    "Para el proceso de calibración, se utilizaron: un generador de señales, un multímetro patrón y el equipo a calibrar. Las condiciones de calibración se establecieron para una señal senoidal con una frecuencia de 1 kHz. Las mediciones se realizaron de manera simultánea con ambos instrumentos, asegurando que la influencia de las incertidumbres del generador de señales estuviera presente en ambos dispositivos. Se varió la amplitud desde 10 mV hasta 100 mV en pasos de 5 mV para la primera escala, y luego desde 100 mV hasta 1000 mV en pasos de 50 mV para la segunda escala. Los resultados se presentan en las siguientes tablas, donde Vv representa la tensión medida por el multímetro patrón y Vi la tensión medida por el voltímetro a calibrar:</p>\n",
    "\n",
    "<div style=\"text-align: center;\">\n",
    "  <p float=\"center\">\n",
    "    <img src=\"Tabal-100mV.png\" alt=\"Imagen 1\" style=\"width: 30%;\">\n",
    "    <img src=\"Tabal-1000mV.png\" alt=\"Imagen 2\" style=\"width: 30%;\">\n",
    "  </p><br>\n",
    "  <p float=\"center\">\n",
    "    <img src=\"Grafico-100mV.png\" alt=\"Imagen 1\" style=\"width: 45%;\">\n",
    "    <img src=\"Grafico-1000mV.png\" alt=\"Imagen 2\" style=\"width: 45%;\">\n",
    "  </p>\n",
    "</div>"
   ]
  },
  {
   "cell_type": "markdown",
   "metadata": {},
   "source": []
  },
  {
   "cell_type": "markdown",
   "metadata": {},
   "source": [
    "| Respuesta en Frecuencia |\n",
    "|-------------------------|\n",
    "|<div style=\"max-width: 100%; text-align: center;\"> <img src=\"FecuenciaVSTension.png\" alt=\"Texto alternativo\" style=\"max-width: 80%;\"></div> <p style=\"text-align: justify; font-weight: italic; font-size:15px;\">El dispositivo está diseñado para la medición de señales, tanto periódicas como aperiódicas. Se llevaron a cabo pruebas utilizando señales de formas conocidas (senoidal, cuadrada y triangular) con el propósito de caracterizar la respuesta en frecuencia. Este análisis permite comprender el comportamiento y la variación de la tensión en función de la frecuencia. Con estos resultados, podemos determinar el ancho de banda efectivo en el cual las mediciones de tensión son consistentes. Las mediciones se realizaron utilizando una tensión de entrada de 100 mV para cada una de las señales mencionadas y abarcando un rango de frecuencias desde 1 Hz hasta 100 kHz.</p><br><div style=\"max-width: 100%; text-align: center;\"><img src=\"FecuenciaVSTension-Grafico.png\" alt=\"Texto alternativo\" style=\"max-width: 50%;\">|\n",
    "\n",
    "<p> <strong>Rango de Freucnica:<strong> 50 Hz  to  5 kHz\n",
    "\n",
    "\n"
   ]
  },
  {
   "cell_type": "markdown",
   "metadata": {},
   "source": [
    "<div style=\"text-align: center; border: 2px solid white; padding: 2px; background-color: green; font-family: 'American Typewriter', 'Courier New', Courier, 'Lucida Sans Typewriter', 'Lucida Typewriter', monospace; font-size: 20px; color: #FFFFFF; font-weight: bold;\">\n",
    "    VIII.\tAnálisis y conclusiones referidas a la incertidumbre lograda.\n",
    "</div>"
   ]
  },
  {
   "cell_type": "markdown",
   "metadata": {},
   "source": [
    "<div style=\"text-align: center; border: 2px solid white; padding: 2px; background-color: green; font-family: 'American Typewriter', 'Courier New', Courier, 'Lucida Sans Typewriter', 'Lucida Typewriter', monospace; font-size: 20px; color: #FFFFFF; font-weight: bold;\">\n",
    "    XII.\tReferencias.\n",
    "</div>"
   ]
  },
  {
   "cell_type": "markdown",
   "metadata": {},
   "source": [
    "<ol>\n",
    "    <li>  AN-268 Application Note—RMS-to-DC Converters Ease Measurement Tasks [<a href=\"https://www.analog.com/media/en/training-seminars/design-handbooks/rms-dc-app-guide-appendD.pdf\">link</a>]</li>\n",
    "    <li>  Appendix D October 2002 New Products Appendix to the RMS to DC Conversion Application Guide [<a href=\"https://www.analog.com/media/en/training-seminars/design-handbooks/rms-dc-app-guide-appendD.pdf\">link</a>]</li>\n",
    "    <li>  Datasheet del AD736 de Analog Devices [<a href=\"https://www.analog.com/media/en/technical-documentation/data-sheets/AD736.pdf\">link</a>]</li>\n",
    "    <li  >Arduino documentation: A000066-datasheet.pdf [<a href=\"https://docs.arduino.cc/hardware/uno-rev3/\">link</a>]</li>\n",
    "    <li>  6½-Digit USB Digital Multimeter KEITHEL-2100 [<a href=\"https://assets.testequity.com/te1/Documents/pdf/keithley/2100.pdf\">link</a>] & MANUAL [<a href=\"\">link</a>]</li>\n",
    "</ol>\n",
    "\n",
    "\n"
   ]
  }
 ],
 "metadata": {
  "kernelspec": {
   "display_name": "Python 3",
   "language": "python",
   "name": "python3"
  },
  "language_info": {
   "codemirror_mode": {
    "name": "ipython",
    "version": 3
   },
   "file_extension": ".py",
   "mimetype": "text/x-python",
   "name": "python",
   "nbconvert_exporter": "python",
   "pygments_lexer": "ipython3",
   "version": "3.10.11"
  }
 },
 "nbformat": 4,
 "nbformat_minor": 2
}
